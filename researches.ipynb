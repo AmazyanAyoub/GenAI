{
 "cells": [
  {
   "cell_type": "code",
   "execution_count": 1,
   "metadata": {},
   "outputs": [],
   "source": [
    "from langchain.schema import HumanMessage\n",
    "from langchain import PromptTemplate\n",
    "template = \"\"\"\n",
    "    Below is a draft text that may be poorly worded.\n",
    "    Your goal is to:\n",
    "    - Properly redact the draft text\n",
    "    - Convert the draft text to a specified tone\n",
    "    - Convert the draft text to a specified dialect\n",
    "\n",
    "    Here are some examples different Tones:\n",
    "    - Formal: Greetings! OpenAI has announced that Sam Altman is rejoining the company as its Chief Executive Officer. After a period of five days of conversations, discussions, and deliberations, the decision to bring back Altman, who had been previously dismissed, has been made. We are delighted to welcome Sam back to OpenAI.\n",
    "    - Informal: Hey everyone, it's been a wild week! We've got some exciting news to share - Sam Altman is back at OpenAI, taking up the role of chief executive. After a bunch of intense talks, debates, and convincing, Altman is making his triumphant return to the AI startup he co-founded.  \n",
    "\n",
    "    Here are some examples of words in different dialects:\n",
    "    - American: French Fries, cotton candy, apartment, garbage, \\\n",
    "        cookie, green thumb, parking lot, pants, windshield\n",
    "    - British: chips, candyfloss, flag, rubbish, biscuit, green fingers, \\\n",
    "        car park, trousers, windscreen\n",
    "\n",
    "    Example Sentences from each dialect:\n",
    "    - American: Greetings! OpenAI has announced that Sam Altman is rejoining the company as its Chief Executive Officer. After a period of five days of conversations, discussions, and deliberations, the decision to bring back Altman, who had been previously dismissed, has been made. We are delighted to welcome Sam back to OpenAI.\n",
    "    - British: On Wednesday, OpenAI, the esteemed artificial intelligence start-up, announced that Sam Altman would be returning as its Chief Executive Officer. This decisive move follows five days of deliberation, discourse and persuasion, after Altman's abrupt departure from the company which he had co-established.\n",
    "\n",
    "    Please start the redaction with a warm introduction. Add the introduction \\\n",
    "        if you need to.\n",
    "    \n",
    "    Below is the draft text, tone, and dialect:\n",
    "    DRAFT: {draft}\n",
    "    TONE: {tone}\n",
    "    DIALECT: {dialect}\n",
    "\n",
    "    YOUR {dialect} RESPONSE:\n",
    "\"\"\"\n",
    "\n",
    "prompt = PromptTemplate(\n",
    "    input_variables=[\"draft\", \"tone\", \"dialect\"],\n",
    "    template=template,\n",
    "    )"
   ]
  },
  {
   "cell_type": "code",
   "execution_count": 3,
   "metadata": {},
   "outputs": [
    {
     "data": {
      "text/plain": [
       "[HumanMessage(content=\"\\n    Below is a draft text that may be poorly worded.\\n    Your goal is to:\\n    - Properly redact the draft text\\n    - Convert the draft text to a specified tone\\n    - Convert the draft text to a specified dialect\\n\\n    Here are some examples different Tones:\\n    - Formal: Greetings! OpenAI has announced that Sam Altman is rejoining the company as its Chief Executive Officer. After a period of five days of conversations, discussions, and deliberations, the decision to bring back Altman, who had been previously dismissed, has been made. We are delighted to welcome Sam back to OpenAI.\\n    - Informal: Hey everyone, it's been a wild week! We've got some exciting news to share - Sam Altman is back at OpenAI, taking up the role of chief executive. After a bunch of intense talks, debates, and convincing, Altman is making his triumphant return to the AI startup he co-founded.  \\n\\n    Here are some examples of words in different dialects:\\n    - American: French Fries, cotton candy, apartment, garbage,         cookie, green thumb, parking lot, pants, windshield\\n    - British: chips, candyfloss, flag, rubbish, biscuit, green fingers,         car park, trousers, windscreen\\n\\n    Example Sentences from each dialect:\\n    - American: Greetings! OpenAI has announced that Sam Altman is rejoining the company as its Chief Executive Officer. After a period of five days of conversations, discussions, and deliberations, the decision to bring back Altman, who had been previously dismissed, has been made. We are delighted to welcome Sam back to OpenAI.\\n    - British: On Wednesday, OpenAI, the esteemed artificial intelligence start-up, announced that Sam Altman would be returning as its Chief Executive Officer. This decisive move follows five days of deliberation, discourse and persuasion, after Altman's abrupt departure from the company which he had co-established.\\n\\n    Please start the redaction with a warm introduction. Add the introduction         if you need to.\\n    \\n    Below is the draft text, tone, and dialect:\\n    DRAFT: draft\\n    TONE: option_tone\\n    DIALECT: option_dialect\\n\\n    YOUR option_dialect RESPONSE:\\n\", additional_kwargs={}, response_metadata={})]"
      ]
     },
     "execution_count": 3,
     "metadata": {},
     "output_type": "execute_result"
    }
   ],
   "source": [
    "prompt_with_draft = prompt.format(\n",
    "    draft=\"draft\",\n",
    "    tone=\"option_tone\",\n",
    "    dialect=\"option_dialect\"\n",
    ")\n",
    "\n",
    "[HumanMessage(content=prompt_with_draft)]"
   ]
  },
  {
   "cell_type": "code",
   "execution_count": null,
   "metadata": {},
   "outputs": [],
   "source": []
  }
 ],
 "metadata": {
  "kernelspec": {
   "display_name": "genAI",
   "language": "python",
   "name": "python3"
  },
  "language_info": {
   "codemirror_mode": {
    "name": "ipython",
    "version": 3
   },
   "file_extension": ".py",
   "mimetype": "text/x-python",
   "name": "python",
   "nbconvert_exporter": "python",
   "pygments_lexer": "ipython3",
   "version": "3.11.4"
  }
 },
 "nbformat": 4,
 "nbformat_minor": 2
}
