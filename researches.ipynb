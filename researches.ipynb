{
 "cells": [
  {
   "cell_type": "code",
   "execution_count": 1,
   "metadata": {},
   "outputs": [],
   "source": [
    "from langchain.schema import HumanMessage\n",
    "from langchain import PromptTemplate\n",
    "template = \"\"\"\n",
    "    Below is a draft text that may be poorly worded.\n",
    "    Your goal is to:\n",
    "    - Properly redact the draft text\n",
    "    - Convert the draft text to a specified tone\n",
    "    - Convert the draft text to a specified dialect\n",
    "\n",
    "    Here are some examples different Tones:\n",
    "    - Formal: Greetings! OpenAI has announced that Sam Altman is rejoining the company as its Chief Executive Officer. After a period of five days of conversations, discussions, and deliberations, the decision to bring back Altman, who had been previously dismissed, has been made. We are delighted to welcome Sam back to OpenAI.\n",
    "    - Informal: Hey everyone, it's been a wild week! We've got some exciting news to share - Sam Altman is back at OpenAI, taking up the role of chief executive. After a bunch of intense talks, debates, and convincing, Altman is making his triumphant return to the AI startup he co-founded.  \n",
    "\n",
    "    Here are some examples of words in different dialects:\n",
    "    - American: French Fries, cotton candy, apartment, garbage, \\\n",
    "        cookie, green thumb, parking lot, pants, windshield\n",
    "    - British: chips, candyfloss, flag, rubbish, biscuit, green fingers, \\\n",
    "        car park, trousers, windscreen\n",
    "\n",
    "    Example Sentences from each dialect:\n",
    "    - American: Greetings! OpenAI has announced that Sam Altman is rejoining the company as its Chief Executive Officer. After a period of five days of conversations, discussions, and deliberations, the decision to bring back Altman, who had been previously dismissed, has been made. We are delighted to welcome Sam back to OpenAI.\n",
    "    - British: On Wednesday, OpenAI, the esteemed artificial intelligence start-up, announced that Sam Altman would be returning as its Chief Executive Officer. This decisive move follows five days of deliberation, discourse and persuasion, after Altman's abrupt departure from the company which he had co-established.\n",
    "\n",
    "    Please start the redaction with a warm introduction. Add the introduction \\\n",
    "        if you need to.\n",
    "    \n",
    "    Below is the draft text, tone, and dialect:\n",
    "    DRAFT: {draft}\n",
    "    TONE: {tone}\n",
    "    DIALECT: {dialect}\n",
    "\n",
    "    YOUR {dialect} RESPONSE:\n",
    "\"\"\"\n",
    "\n",
    "prompt = PromptTemplate(\n",
    "    input_variables=[\"draft\", \"tone\", \"dialect\"],\n",
    "    template=template,\n",
    "    )"
   ]
  },
  {
   "cell_type": "code",
   "execution_count": 3,
   "metadata": {},
   "outputs": [
    {
     "data": {
      "text/plain": [
       "[HumanMessage(content=\"\\n    Below is a draft text that may be poorly worded.\\n    Your goal is to:\\n    - Properly redact the draft text\\n    - Convert the draft text to a specified tone\\n    - Convert the draft text to a specified dialect\\n\\n    Here are some examples different Tones:\\n    - Formal: Greetings! OpenAI has announced that Sam Altman is rejoining the company as its Chief Executive Officer. After a period of five days of conversations, discussions, and deliberations, the decision to bring back Altman, who had been previously dismissed, has been made. We are delighted to welcome Sam back to OpenAI.\\n    - Informal: Hey everyone, it's been a wild week! We've got some exciting news to share - Sam Altman is back at OpenAI, taking up the role of chief executive. After a bunch of intense talks, debates, and convincing, Altman is making his triumphant return to the AI startup he co-founded.  \\n\\n    Here are some examples of words in different dialects:\\n    - American: French Fries, cotton candy, apartment, garbage,         cookie, green thumb, parking lot, pants, windshield\\n    - British: chips, candyfloss, flag, rubbish, biscuit, green fingers,         car park, trousers, windscreen\\n\\n    Example Sentences from each dialect:\\n    - American: Greetings! OpenAI has announced that Sam Altman is rejoining the company as its Chief Executive Officer. After a period of five days of conversations, discussions, and deliberations, the decision to bring back Altman, who had been previously dismissed, has been made. We are delighted to welcome Sam back to OpenAI.\\n    - British: On Wednesday, OpenAI, the esteemed artificial intelligence start-up, announced that Sam Altman would be returning as its Chief Executive Officer. This decisive move follows five days of deliberation, discourse and persuasion, after Altman's abrupt departure from the company which he had co-established.\\n\\n    Please start the redaction with a warm introduction. Add the introduction         if you need to.\\n    \\n    Below is the draft text, tone, and dialect:\\n    DRAFT: draft\\n    TONE: option_tone\\n    DIALECT: option_dialect\\n\\n    YOUR option_dialect RESPONSE:\\n\", additional_kwargs={}, response_metadata={})]"
      ]
     },
     "execution_count": 3,
     "metadata": {},
     "output_type": "execute_result"
    }
   ],
   "source": [
    "prompt_with_draft = prompt.format(\n",
    "    draft=\"draft\",\n",
    "    tone=\"option_tone\",\n",
    "    dialect=\"option_dialect\"\n",
    ")\n",
    "\n",
    "[HumanMessage(content=prompt_with_draft)]"
   ]
  },
  {
   "cell_type": "code",
   "execution_count": 1,
   "metadata": {},
   "outputs": [],
   "source": [
    "import os\n",
    "import warnings\n",
    "from langchain._api import LangChainDeprecationWarning\n",
    "from dotenv import load_dotenv, find_dotenv\n",
    "from langchain_groq import ChatGroq\n",
    "warnings.simplefilter(\"ignore\", category=LangChainDeprecationWarning)\n",
    "_ = load_dotenv(find_dotenv())\n",
    "llm = ChatGroq(model=\"llama3-70b-8192\")"
   ]
  },
  {
   "cell_type": "code",
   "execution_count": 2,
   "metadata": {},
   "outputs": [
    {
     "data": {
      "text/plain": [
       "AIMessage(content=\"I'd be happy to help. Please provide me with the text you want me to write in Urdu, and I'll do my best to write it for you.\\n\\nIf you don't have a specific text in mind, I can offer you some common phrases or sentences in Urdu. For example:\\n\\n* Hello: اسلام علیکم (As-salamu alaykum)\\n* Goodbye: خدا حافظ (Khuda Hafiz)\\n* Thank you: شکرہ (Shukriya)\\n* How are you?: آپ کیسے ہو؟ (Aap kaise ho?)\\n* I love you: میں تم سے محبت کرتا ہوں (Main tumse mohabbat karta hoon)\\n\\nLet me know if you need anything specific!\", additional_kwargs={}, response_metadata={'token_usage': {'completion_tokens': 170, 'prompt_tokens': 18, 'total_tokens': 188, 'completion_time': 0.530944428, 'prompt_time': 0.003858799, 'queue_time': 0.5695253020000001, 'total_time': 0.534803227}, 'model_name': 'llama3-70b-8192', 'system_fingerprint': 'fp_753a4aecf6', 'finish_reason': 'stop', 'logprobs': None}, id='run-6fa2d65c-768d-4942-a449-90625f99502c-0', usage_metadata={'input_tokens': 18, 'output_tokens': 170, 'total_tokens': 188})"
      ]
     },
     "execution_count": 2,
     "metadata": {},
     "output_type": "execute_result"
    }
   ],
   "source": [
    "llm.invoke(\"can you write me text in Urdu?\")"
   ]
  },
  {
   "cell_type": "code",
   "execution_count": 3,
   "metadata": {},
   "outputs": [
    {
     "data": {
      "text/plain": [
       "AIMessage(content='زندگی کا معنی کیا ہے؟\\n\\n(What is the meaning of life?)\\n\\nIn Urdu, the phrase \"زندگی کا معنی\" (zindagi ka ma\\'ni) means \"the meaning of life\".\\n\\nAs for the answer, it\\'s a question that has puzzled philosophers, scholars, and thinkers for centuries. There is no one definitive answer, but here\\'s a possible response in Urdu:\\n\\n\"زندگی کا معنی وہی ہے جو ہم خود کو دینے کا فیصلہ کرتے ہیں۔ یہ ایک شخص سے دوسرے شخص تک مختلف ہوتا ہے۔ کچھ لوگ زندگی کو محبت، خاندان، یا دوسروں کی خدمت کے لیے وقف کرتے ہیں۔ کچھ کو خوشی، کامیابی، یا علمی ترقی کا احساس دلاتا ہے۔ لیکن در حقیقت، زندگی کا معنی وہی ہے جو ہم اپنی زندگی میں پاتے ہیں۔\"\\n\\n(\"The meaning of life is what we decide to give it ourselves. It varies from person to person. Some people dedicate their lives to love, family, or serving others. Some find happiness, success, or intellectual growth. But in reality, the meaning of life is what we find in our own lives.\")\\n\\nOther possible responses in Urdu could be:\\n\\n* \"زندگی کا معنی اپنی خواہشات کو پورا کرنا ہے\" (The meaning of life is to fulfill one\\'s desires)\\n* \"زندگی کا معنی اپنے مقصد کو پورا کرنا ہے\" (The meaning of life is to achieve one\\'s purpose)\\n* \"زندگی کا معنی خود کو پانا ہے\" (The meaning of life is to find oneself)\\n\\nAnd so on. Ultimately, the meaning of life is a personal and subjective question that each individual must answer for themselves.', additional_kwargs={}, response_metadata={'token_usage': {'completion_tokens': 469, 'prompt_tokens': 22, 'total_tokens': 491, 'completion_time': 1.404994955, 'prompt_time': 0.003818394, 'queue_time': 0.158482135, 'total_time': 1.4088133489999999}, 'model_name': 'llama3-70b-8192', 'system_fingerprint': 'fp_2f30b0b571', 'finish_reason': 'stop', 'logprobs': None}, id='run-0c39a7a3-1481-4cd8-bdbf-6fc6299c3217-0', usage_metadata={'input_tokens': 22, 'output_tokens': 469, 'total_tokens': 491})"
      ]
     },
     "execution_count": 3,
     "metadata": {},
     "output_type": "execute_result"
    }
   ],
   "source": [
    "llm.invoke(\"Tell me in Urdu language What is the meaning of life?\")"
   ]
  },
  {
   "cell_type": "code",
   "execution_count": 2,
   "metadata": {},
   "outputs": [],
   "source": [
    "from langchain_groq import ChatGroq\n",
    "from langchain.text_splitter import CharacterTextSplitter\n",
    "from langchain.embeddings import HuggingFaceEmbeddings\n",
    "from langchain_community.vectorstores import FAISS\n",
    "from langchain.chains import RetrievalQA\n",
    "from langchain.evaluation.qa import QAEvalChain\n",
    "from langchain_community.document_loaders import PyPDFLoader"
   ]
  },
  {
   "cell_type": "code",
   "execution_count": 4,
   "metadata": {},
   "outputs": [
    {
     "name": "stderr",
     "output_type": "stream",
     "text": [
      "C:\\Users\\lenovo\\AppData\\Local\\Temp\\ipykernel_35724\\375367857.py:7: LangChainDeprecationWarning: The class `HuggingFaceEmbeddings` was deprecated in LangChain 0.2.2 and will be removed in 1.0. An updated version of the class exists in the :class:`~langchain-huggingface package and should be used instead. To use it run `pip install -U :class:`~langchain-huggingface` and import as `from :class:`~langchain_huggingface import HuggingFaceEmbeddings``.\n",
      "  embeddings = HuggingFaceEmbeddings(model_name=\"sentence-transformers/all-MiniLM-L6-v2\")\n",
      "c:\\Users\\lenovo\\anaconda3\\envs\\genAI\\Lib\\site-packages\\sentence_transformers\\cross_encoder\\CrossEncoder.py:13: TqdmWarning: IProgress not found. Please update jupyter and ipywidgets. See https://ipywidgets.readthedocs.io/en/stable/user_install.html\n",
      "  from tqdm.autonotebook import tqdm, trange\n"
     ]
    }
   ],
   "source": [
    "loader = PyPDFLoader(\"data/Be_Good.pdf\")\n",
    "doc = loader.load()\n",
    "\n",
    "text_splitter = CharacterTextSplitter(chunk_size=1000, chunk_overlap=0)\n",
    "texts = text_splitter.split_documents(doc)\n",
    "\n",
    "embeddings = HuggingFaceEmbeddings(model_name=\"sentence-transformers/all-MiniLM-L6-v2\")\n",
    "vectrdb = FAISS.from_documents(texts, embeddings)\n",
    "\n",
    "retriever = vectrdb.as_retriever()\n",
    "\n",
    "llm = ChatGroq(model=\"llama3-70b-8192\")"
   ]
  },
  {
   "cell_type": "code",
   "execution_count": null,
   "metadata": {},
   "outputs": [],
   "source": []
  }
 ],
 "metadata": {
  "kernelspec": {
   "display_name": "genAI",
   "language": "python",
   "name": "python3"
  },
  "language_info": {
   "codemirror_mode": {
    "name": "ipython",
    "version": 3
   },
   "file_extension": ".py",
   "mimetype": "text/x-python",
   "name": "python",
   "nbconvert_exporter": "python",
   "pygments_lexer": "ipython3",
   "version": "3.11.4"
  }
 },
 "nbformat": 4,
 "nbformat_minor": 2
}
